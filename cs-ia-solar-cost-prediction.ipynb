{
 "cells": [
  {
   "cell_type": "code",
   "execution_count": null,
   "metadata": {},
   "outputs": [],
   "source": [
    "import datetime\n",
    "import time\n",
    "import matplotlib.pyplot as plt\n",
    "%matplotlib inline\n",
    "import numpy as np\n",
    "import pandas as pd"
   ]
  },
  {
   "cell_type": "code",
   "execution_count": null,
   "metadata": {},
   "outputs": [],
   "source": [
    "file_path=input(\"Enter the path to your csv file: \")\n",
    "\n",
    "file_path=str(file_path)\n",
    "#/Users/thapliyaa/Desktop/CS_IA/DOM VA Power Detailed Energy Usage.csv\n",
    "cost_KWH=input(\"How much do you pay per KWH? Insert your number as a decimal. \")\n",
    "cost_KWH=float(cost_KWH)\n",
    "total_system_cost=input(\"How much did you pay for your solar panels? Insert your number as a whole number with no commas. \")\n",
    "total_system_cost=int(total_system_cost)"
   ]
  },
  {
   "cell_type": "code",
   "execution_count": null,
   "metadata": {},
   "outputs": [],
   "source": [
    "#Reads the usage data csv file and turns it into a dataframe\n",
    "energydata=pd.read_csv(file_path, dtype='unicode')\n",
    "#Deletes unnecessary columns of data\n",
    "energydata.drop(['Account No', 'Recorder ID', 'Day', 'Month', 'Year','New Date'], axis=1, inplace=True)\n",
    "#Deletes unnecessary rows of data\n",
    "energydata.drop(index=energydata.iloc[0:21].index.tolist(), inplace=True)\n",
    "#Changes the date column to a datetime format\n",
    "energydata['DATE']=pd.to_datetime(energydata['Date'].values)\n",
    "del energydata['Date']\n",
    "energydata.rename(columns={'TOTAL Consumption':'KWH Consumption', 'TOTALProduction':'KWH Production'}, inplace=True)\n",
    "#Converts data type from float64 to float32 to reduce memory\n",
    "energydata['KWH Consumption']=energydata['KWH Consumption'].astype(np.float32)\n",
    "energydata['KWH Production']=energydata['KWH Production'].astype(np.float32)"
   ]
  },
  {
   "cell_type": "code",
   "execution_count": null,
   "metadata": {},
   "outputs": [],
   "source": [
    "#Prints the format of dataframe: columns names and first five rows\n",
    "energydata.head()"
   ]
  },
  {
   "cell_type": "code",
   "execution_count": null,
   "metadata": {},
   "outputs": [],
   "source": [
    "#Prints general statistical information about data\n",
    "energydata.describe()"
   ]
  },
  {
   "cell_type": "code",
   "execution_count": null,
   "metadata": {},
   "outputs": [],
   "source": [
    "#Prints data type and data size information\n",
    "energydata.info()"
   ]
  },
  {
   "cell_type": "code",
   "execution_count": null,
   "metadata": {},
   "outputs": [],
   "source": [
    "#Splits consumption data into separate dataframe for prediction\n",
    "\n",
    "consumptionY=energydata['KWH Consumption']\n",
    "consumptionY.index=energydata['DATE']\n",
    "consumptionY.head()\n",
    "#Features that can be predicted\n",
    "consumptionX = energydata[['KWH Consumption', 'KWH Production']]\n",
    "#Target Variable: what is getting predicted\n",
    "consumptionY = energydata['KWH Consumption']\n",
    "#Tuple unpacking to grab train and test data sets\n",
    "#Test size is the % of data set that is allocated to the test set\n",
    "X_train, X_test, y_train, y_test = train_test_split(consumptionX, consumptionY, test_size=0.7)\n",
    "#Creates Linear Regression object\n",
    "consumption_linearmodel = LinearRegression()\n",
    "#Fits linear model\n",
    "consumption_linearmodel.fit(X_train, y_train)\n",
    "#Array of predictions of KWH Consumption\n",
    "consumption_predictions=consumption_linearmodel.predict(X_test)\n",
    "#Added predicted consumption data to a separate csv file\n",
    "consumptiondata=pd.read_csv(\"/Users/thapliyaa/Desktop/CS_IA/PredictedConsumption.csv\", dtype='unicode')\n",
    "consumptiondata['Prediction']=consumption_predictions.tolist()\n",
    "consumptiondata['DATE']=pd.to_datetime(consumptiondata['11/21/20'].values)\n",
    "del consumptiondata['11/21/20']"
   ]
  },
  {
   "cell_type": "code",
   "execution_count": null,
   "metadata": {},
   "outputs": [],
   "source": [
    "data=input(\"Which data would you like to see? (production or consumption)\")\n",
    "data=str(data)\n",
    "graph=input(\"What kind of graph would you like to see? (line, scatter, or bar) \")\n",
    "graph=str(graph)\n",
    "ans=input(\"Would you like to specify with time intervals? (yes or no)\")\n",
    "ans=str(ans)\n",
    "if data==\"production\":\n",
    "    if graph==\"line\":\n",
    "        if ans==\"yes\":\n",
    "            start=input(\"What day would you like to start on? (YYYY-MM-DD)\")\n",
    "\n",
    "            start=str(start)\n",
    "            end=input(\"What day would you like to end on? (YYYY-MM-DD)\")\n",
    "\n",
    "            end=str(end)\n",
    "            productionY.loc[start:end].plot(figsize=(20,5))\n",
    "    else:\n",
    "        productionY.plot(figsize=(20,5))\n",
    "    if graph==\"scatter\":\n",
    "        plt.scatter(energydata['DATE'], productionY)\n",
    "    if graph==\"bar\":\n",
    "        plt.bar(energydata['DATE'], productionY)\n",
    "if data==\"consumption\":\n",
    "    if graph==\"line\":\n",
    "        if ans==\"yes\":\n",
    "            start=input(\"What day would you like to start on? (YYYY-MM-DD) \")\n",
    "            start=str(start)\n",
    "            end=input(\"What day would you like to end on? (YYYY-MM-DD) \")\n",
    "            end=str(end)\n",
    "            consumptionY.loc[start:end].plot(figsize=(20,5))\n",
    "    else:\n",
    "        consumptionY.plot(figsize=(20,5))\n",
    "    if graph==\"scatter\":\n",
    "        plt.scatter(energydata['DATE'], consumptionY)\n",
    "    if graph==\"bar\":\n",
    "        plt.bar(energydata['DATE'], consumptionY)"
   ]
  },
  {
   "cell_type": "code",
   "execution_count": null,
   "metadata": {},
   "outputs": [],
   "source": [
    "y1=productiondata['Prediction']\n",
    "y1.index=productiondata['DATE']\n",
    "p_graph1=y1.plot(figsize=(30,5), color='Red', alpha=0.6, fontsize=20)\n",
    "p_graph1.set_ylabel('Predicted KWH Consumption')\n",
    "p_graph2=productionY.plot(figsize=(30,5), title='Past and Future KWH Production', grid=True, fontsize=20, alpha=0.6, color='Blue')\n",
    "p_graph2.set_xlabel('DATE', fontsize=20)\n",
    "p_graph2.set_ylabel('KWH Production', fontsize=20)\n",
    "p_graph2.title.set_size(20)\n",
    "plt.tight_layout()\n",
    "p_graph2.legend(['Predicted KWH Production','KWH Production'], fontsize=20, loc='upper right')"
   ]
  },
  {
   "cell_type": "code",
   "execution_count": null,
   "metadata": {},
   "outputs": [],
   "source": [
    "y2=consumptiondata['Prediction']\n",
    "y2.index=consumptiondata['DATE']\n",
    "c_graph1=y2.plot(figsize=(30,5), color='Red', alpha=0.6, fontsize=20)\n",
    "c_graph1.set_ylabel('Predicted KWH Consumption')\n",
    "c_graph2=consumptionY.plot(figsize=(30,5), title='Past and Future KWH Consumption', grid=True, fontsize=20, alpha=0.6, color='Blue')\n",
    "c_graph2.set_xlabel('DATE', fontsize=20)\n",
    "c_graph2.set_ylabel('KWH Consumption', fontsize=20)\n",
    "c_graph2.title.set_size(20)\n",
    "plt.tight_layout()\n",
    "c_graph2.legend(['Predicted KWH Consumption','KWH Consumption'], fontsize=20, loc='upper right')"
   ]
  },
  {
   "cell_type": "code",
   "execution_count": null,
   "metadata": {},
   "outputs": [],
   "source": [
    "cumulative_df=pd.DataFrame(energydata, columns=['DATE'])\n",
    "consumption_col=energydata.loc[:,'KWH Consumption']\n",
    "consumption_arr=consumption_col.values\n",
    "consumption_arr=consumption_arr.astype(int)\n",
    "production_col=energydata.loc[:, 'KWH Production']\n",
    "production_arr=production_col.values\n",
    "for i in range(1,1757):\n",
    "    production_arr[i]=(production_arr[i-1]+production_arr[i])\n",
    "for i in range(1,1757):\n",
    "    consumption_arr[i]=(consumption_arr[i-1]+consumption_arr[i])"
   ]
  },
  {
   "cell_type": "code",
   "execution_count": null,
   "metadata": {},
   "outputs": [],
   "source": [
    "cumulative_df['Cumulative Consumption']=consumption_arr.tolist()\n",
    "cumulative_df['Cumulative Production']=production_arr.tolist()"
   ]
  },
  {
   "cell_type": "code",
   "execution_count": null,
   "metadata": {},
   "outputs": [],
   "source": [
    "totalY=cumulative_df['Cumulative Consumption']\n",
    "\n",
    "totalY.index=cumulative_df['DATE']\n",
    "totalY.head()\n",
    "y3=cumulative_df['Cumulative Production']\n",
    "y3.index=cumulative_df['DATE']\n",
    "t_graph1=y3.plot(figsize=(20,10), color='Red', alpha=0.6, fontsize=20, linewidth=5)\n",
    "t_graph2=totalY.plot(figsize=(20,10), title='Cumulative KWH Production and Consumption',grid=True, fontsize=20, alpha=0.6, color='Blue', linewidth=5)\n",
    "t_graph2.set_xlabel('DATE', fontsize=20)\n",
    "t_graph2.set_ylabel('Cumulative KWH', fontsize=20)\n",
    "t_graph2.title.set_size(20)\n",
    "plt.tight_layout()\n",
    "t_graph2.legend(['Cumulative KWH Production','Cumulative KWH Consumption'], fontsize=20, loc='upper left')"
   ]
  },
  {
   "cell_type": "code",
   "execution_count": null,
   "metadata": {},
   "outputs": [],
   "source": [
    "predictions_df=pd.DataFrame(consumptiondata, columns=['DATE'])\n",
    "\n",
    "pred_consumption=consumptiondata.loc[:,'Prediction']\n",
    "pred_consumption_arr=pred_consumption.values\n",
    "pred_production=productiondata.loc[:,'Prediction']\n",
    "pred_production_arr=pred_production.values\n",
    "pred_consumption_arr[0]=consumption_arr[1756]\n",
    "pred_production_arr[0]=production_arr[1756]\n",
    "#predictions_df\n",
    "for i in range(1,1230):\n",
    "    pred_production_arr[i]=(pred_production_arr[i-1]+pred_production_arr[i])\n",
    "    #print(production_arr[i])\n",
    "for i in range(1,1230):\n",
    "    pred_consumption_arr[i]=(pred_consumption_arr[i-1]+pred_consumption_arr[i])\n",
    "    #consumption_arr[i]=consumption_arr[i]*cost_KWH\n",
    "    #print(consumption_arr[i])\n",
    "predictions_df['Predicted Consumption']=pred_consumption_arr.tolist()\n",
    "predictions_df['Predicted Production']=pred_production_arr.tolist()"
   ]
  },
  {
   "cell_type": "code",
   "execution_count": null,
   "metadata": {},
   "outputs": [],
   "source": [
    "totalY=cumulative_df['Cumulative Consumption']\n",
    "\n",
    "totalY.index=cumulative_df['DATE']\n",
    "t_graph2=totalY.plot(figsize=(25,10), title='Cumulative KWH Production and Consumption',\n",
    "grid=True, fontsize=20, alpha=0.6, color='Blue', linewidth=5)\n",
    "#y3=cumulative_df['Cumulative Production']\n",
    "#y3.index=cumulative_df['DATE']\n",
    "#t_graph1=y3.plot(figsize=(20,10), color='Red', alpha=0.6, fontsize=20,\n",
    "\n",
    "#t_graph2.set_xlabel('DATE', fontsize=20)\n",
    "#t_graph2.set_ylabel('Cumulative KWH', fontsize=20)\n",
    "#t_graph2.title.set_size(20)\n",
    "#plt.tight_layout()\n",
    "predY=predictions_df['Predicted Consumption']\n",
    "predY.index=predictions_df['DATE']\n",
    "t_graph3=predY.plot(figsize=(25,10), title='Predicted KWH Production andConsumption',grid=True, fontsize=20, alpha=0.6, color='Green', linewidth=5)\n",
    "y4=predictions_df['Predicted Production']\n",
    "y4.index=predictions_df['DATE']\n",
    "#t_graph4=y4.plot(figsize=(20,15), grid=True, fontsize=20, alpha=0.6, color='Orange', linewidth=5)\n",
    "t_graph3.legend(['KWH Production','Predicted KWH Production'], fontsize=20, loc='upper left')"
   ]
  },
  {
   "cell_type": "code",
   "execution_count": null,
   "metadata": {},
   "outputs": [],
   "source": [
    "saved=int(production_arr[1756]*cost_KWH)\n",
    "\n",
    "print(\"Total saved from 1/27/2016 to 11/20/2020: $\"+str(saved))\n",
    "pred_saved=int((pred_production_arr[1229]-production_arr[1756])*cost_KWH)\n",
    "print(\"Total predicted to save from 11/21/2020 to 4/24/2024: $\"+str(pred_saved))\n",
    "total_saved=int(saved+pred_saved)\n",
    "print(\"Total savings in 7.4 years: $\"+str(total_saved))\n",
    "total_system_cost=16723\n",
    "payback_period=float(round((total_system_cost/total_saved), 2)*7.4)\n",
    "print(\"Client will break even in \"+str(payback_period)+\" years\")"
   ]
  }
 ],
 "metadata": {
  "language_info": {
   "name": "python"
  },
  "orig_nbformat": 4
 },
 "nbformat": 4,
 "nbformat_minor": 2
}
